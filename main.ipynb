{
 "cells": [
  {
   "cell_type": "code",
   "execution_count": 1,
   "id": "78c2cdb4",
   "metadata": {},
   "outputs": [],
   "source": [
    "%load_ext autoreload\n",
    "%autoreload 2"
   ]
  },
  {
   "cell_type": "code",
   "execution_count": 2,
   "id": "5217c214",
   "metadata": {},
   "outputs": [],
   "source": [
    "from data import get_datasets, get_dataloaders\n",
    "from random_texts import CLIPZeroShotClassifier"
   ]
  },
  {
   "cell_type": "code",
   "execution_count": 3,
   "id": "6361c9a2",
   "metadata": {},
   "outputs": [
    {
     "data": {
      "application/vnd.jupyter.widget-view+json": {
       "model_id": "7aa1dcf48ad54a019e15ecb3a3eb5f6b",
       "version_major": 2,
       "version_minor": 0
      },
      "text/plain": [
       "Loading dataset shards:   0%|          | 0/27 [00:00<?, ?it/s]"
      ]
     },
     "metadata": {},
     "output_type": "display_data"
    },
    {
     "name": "stdout",
     "output_type": "stream",
     "text": [
      "120\n",
      "15\n",
      "21\n",
      "51\n",
      "52\n",
      "20\n"
     ]
    }
   ],
   "source": [
    "datasets, classnames = get_datasets(fraction=1e-3)\n",
    "for name, dataset in datasets.items():\n",
    "    print(len(dataset))"
   ]
  },
  {
   "cell_type": "code",
   "execution_count": 4,
   "id": "e2189383",
   "metadata": {},
   "outputs": [
    {
     "name": "stderr",
     "output_type": "stream",
     "text": [
      "100%|██████████| 345/345 [00:25<00:00, 13.68it/s]\n"
     ]
    }
   ],
   "source": [
    "baseline_model = CLIPZeroShotClassifier(classnames)\n",
    "dataloaders = get_dataloaders(datasets, baseline_model.preprocess)"
   ]
  },
  {
   "cell_type": "code",
   "execution_count": 5,
   "id": "b5ec1a3d",
   "metadata": {},
   "outputs": [],
   "source": [
    "from torch import nn\n",
    "import torch\n",
    "from tqdm import tqdm\n",
    "from pprint import pprint\n",
    "\n",
    "\n",
    "def evaluate(model: nn.Module) -> dict[str, float]:\n",
    "    model.eval()\n",
    "    results = {}\n",
    "    with torch.no_grad():\n",
    "        for name, dataloader in dataloaders.items():\n",
    "            correct = 0\n",
    "            total = 0\n",
    "            for batch in tqdm(dataloader, desc=f\"Evaluating {name}\"):\n",
    "                images = batch[\"image\"]\n",
    "                labels = batch[\"label\"]\n",
    "                logits = model(images)\n",
    "                correct += (logits.argmax(dim=-1) == labels).float().sum()\n",
    "                total += len(labels)\n",
    "            results[name] = correct / total\n",
    "    return results"
   ]
  },
  {
   "cell_type": "markdown",
   "id": "eda08e19",
   "metadata": {},
   "source": [
    "## Zero-shot model"
   ]
  },
  {
   "cell_type": "code",
   "execution_count": 6,
   "id": "393805d4",
   "metadata": {},
   "outputs": [
    {
     "name": "stderr",
     "output_type": "stream",
     "text": [
      "Evaluating ID: 100%|██████████| 4/4 [00:06<00:00,  1.51s/it]\n",
      "Evaluating OOD_infograph: 100%|██████████| 1/1 [00:00<00:00,  1.25it/s]\n",
      "Evaluating OOD_painting: 100%|██████████| 1/1 [00:01<00:00,  1.02s/it]\n",
      "Evaluating OOD_quickdraw: 100%|██████████| 2/2 [00:02<00:00,  1.20s/it]\n",
      "Evaluating OOD_real: 100%|██████████| 2/2 [00:02<00:00,  1.26s/it]\n",
      "Evaluating OOD_clipart: 100%|██████████| 1/1 [00:00<00:00,  1.03it/s]"
     ]
    },
    {
     "name": "stdout",
     "output_type": "stream",
     "text": [
      "{'ID': tensor(0.8083),\n",
      " 'OOD_clipart': tensor(0.4000),\n",
      " 'OOD_infograph': tensor(0.6667),\n",
      " 'OOD_painting': tensor(0.6190),\n",
      " 'OOD_quickdraw': tensor(0.1569),\n",
      " 'OOD_real': tensor(0.7692)}\n"
     ]
    },
    {
     "name": "stderr",
     "output_type": "stream",
     "text": [
      "\n"
     ]
    }
   ],
   "source": [
    "baseline_results = evaluate(baseline_model)\n",
    "pprint(baseline_results)"
   ]
  },
  {
   "cell_type": "code",
   "execution_count": null,
   "id": "ca55f949",
   "metadata": {},
   "outputs": [],
   "source": []
  }
 ],
 "metadata": {
  "kernelspec": {
   "display_name": ".venv",
   "language": "python",
   "name": "python3"
  },
  "language_info": {
   "codemirror_mode": {
    "name": "ipython",
    "version": 3
   },
   "file_extension": ".py",
   "mimetype": "text/x-python",
   "name": "python",
   "nbconvert_exporter": "python",
   "pygments_lexer": "ipython3",
   "version": "3.11.11"
  }
 },
 "nbformat": 4,
 "nbformat_minor": 5
}
