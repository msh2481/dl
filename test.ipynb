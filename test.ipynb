{
 "cells": [
  {
   "cell_type": "code",
   "execution_count": 2,
   "id": "5217c214",
   "metadata": {},
   "outputs": [
    {
     "name": "stderr",
     "output_type": "stream",
     "text": [
      "/Users/mike/Desktop/dl/.venv/lib/python3.11/site-packages/tqdm/auto.py:21: TqdmWarning: IProgress not found. Please update jupyter and ipywidgets. See https://ipywidgets.readthedocs.io/en/stable/user_install.html\n",
      "  from .autonotebook import tqdm as notebook_tqdm\n",
      "100%|██████████| 3/3 [00:00<00:00, 14.33it/s]\n"
     ]
    }
   ],
   "source": [
    "from clip import clip\n",
    "from random_texts import zeroshot_classifier\n",
    "from datasets import load_dataset\n",
    "\n",
    "BACKBONE = \"ViT-B/16\"\n",
    "model, preprocess = clip.load(BACKBONE)\n",
    "sample_classes = [\"dog\", \"cat\", \"bird\"]\n",
    "zeroshot_weights = zeroshot_classifier(model, sample_classes)"
   ]
  },
  {
   "cell_type": "code",
   "execution_count": 3,
   "id": "6361c9a2",
   "metadata": {},
   "outputs": [
    {
     "data": {
      "text/plain": [
       "Compose(\n",
       "    Resize(size=224, interpolation=bicubic, max_size=None, antialias=True)\n",
       "    CenterCrop(size=(224, 224))\n",
       "    <function _convert_image_to_rgb at 0x1382eb4c0>\n",
       "    ToTensor()\n",
       "    Normalize(mean=(0.48145466, 0.4578275, 0.40821073), std=(0.26862954, 0.26130258, 0.27577711))\n",
       ")"
      ]
     },
     "execution_count": 3,
     "metadata": {},
     "output_type": "execute_result"
    }
   ],
   "source": [
    "preprocess"
   ]
  },
  {
   "cell_type": "code",
   "execution_count": 26,
   "id": "e2189383",
   "metadata": {},
   "outputs": [
    {
     "name": "stderr",
     "output_type": "stream",
     "text": [
      "Filter: 100%|██████████| 409832/409832 [00:00<00:00, 1650437.15 examples/s]\n",
      "Filter: 100%|██████████| 176743/176743 [00:00<00:00, 3086030.37 examples/s]\n",
      "Filter: 100%|██████████| 176743/176743 [00:00<00:00, 3684975.40 examples/s]\n",
      "Filter: 100%|██████████| 176743/176743 [00:00<00:00, 2850922.11 examples/s]\n",
      "Filter: 100%|██████████| 176743/176743 [00:00<00:00, 3856731.19 examples/s]\n",
      "Filter: 100%|██████████| 176743/176743 [00:00<00:00, 4395393.44 examples/s]\n"
     ]
    }
   ],
   "source": [
    "from data import get_datasets\n",
    "\n",
    "ds = get_datasets()"
   ]
  },
  {
   "cell_type": "code",
   "execution_count": 27,
   "id": "7bea1a82",
   "metadata": {},
   "outputs": [
    {
     "data": {
      "text/plain": [
       "{'ID': Dataset({\n",
       "     features: ['image', 'label', 'domain', 'image_path'],\n",
       "     num_rows: 120906\n",
       " }),\n",
       " 'OOD_infograph': Dataset({\n",
       "     features: ['image', 'label', 'domain', 'image_path'],\n",
       "     num_rows: 15582\n",
       " }),\n",
       " 'OOD_painting': Dataset({\n",
       "     features: ['image', 'label', 'domain', 'image_path'],\n",
       "     num_rows: 21850\n",
       " }),\n",
       " 'OOD_quickdraw': Dataset({\n",
       "     features: ['image', 'label', 'domain', 'image_path'],\n",
       "     num_rows: 51750\n",
       " }),\n",
       " 'OOD_real': Dataset({\n",
       "     features: ['image', 'label', 'domain', 'image_path'],\n",
       "     num_rows: 52041\n",
       " }),\n",
       " 'OOD_clipart': Dataset({\n",
       "     features: ['image', 'label', 'domain', 'image_path'],\n",
       "     num_rows: 20916\n",
       " })}"
      ]
     },
     "execution_count": 27,
     "metadata": {},
     "output_type": "execute_result"
    }
   ],
   "source": [
    "ds"
   ]
  }
 ],
 "metadata": {
  "kernelspec": {
   "display_name": ".venv",
   "language": "python",
   "name": "python3"
  },
  "language_info": {
   "codemirror_mode": {
    "name": "ipython",
    "version": 3
   },
   "file_extension": ".py",
   "mimetype": "text/x-python",
   "name": "python",
   "nbconvert_exporter": "python",
   "pygments_lexer": "ipython3",
   "version": "3.11.11"
  }
 },
 "nbformat": 4,
 "nbformat_minor": 5
}
